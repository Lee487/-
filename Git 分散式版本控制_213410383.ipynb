{
  "nbformat": 4,
  "nbformat_minor": 0,
  "metadata": {
    "colab": {
      "provenance": []
    },
    "kernelspec": {
      "name": "python3",
      "display_name": "Python 3"
    },
    "language_info": {
      "name": "python"
    }
  },
  "cells": [
    {
      "cell_type": "code",
      "execution_count": null,
      "metadata": {
        "id": "VysJjaoBEC_6"
      },
      "outputs": [],
      "source": [
        "題目：以 Google Colab Linux 環境為例，演練將專案資料夾\n",
        "新建檔案後交付至 Git 倉庫，寫成一個腳本文件。\n",
        "• 要求：\n",
        "先建一個專案資料夾 (例如 my-repo) ，新增一個檔案 (例如"
      ]
    },
    {
      "cell_type": "code",
      "source": [
        "%%bash\n",
        "\n",
        "# 設定專案名稱\n",
        "！PROJECT_NAME=\"my-repo\"\n",
        "！FILE_NAME=\"example_file.txt\"\n",
        "！GIT_REPO_URL=\"https://github.com/Lee487/your-repo-name.git\"\n",
        "\n",
        "# 1. 建立專案資料夾\n",
        "！echo \"建立專案資料夾: $PROJECT_NAME\"\n",
        "！mkdir \"$PROJECT_NAME\"\n",
        "！cd \"$PROJECT_NAME\"\n",
        "\n",
        "# 2. 初始化 Git 倉庫\n",
        "echo \"初始化 Git 倉庫\"\n",
        "git init\n",
        "\n",
        "# 3. 新增一個檔案\n",
        "echo \"這是我的新檔案內容\" > \"$FILE_NAME\"\n",
        "echo \"新增檔案: $FILE_NAME\"\n",
        "cat \"$FILE_NAME\"  # 查看檔案內容\n",
        "\n",
        "# 4. 設定 Git 使用者資訊 (如果尚未設定過)\n",
        "echo \"設定 Git 使用者名稱和電子郵件\"\n",
        "git config --global user.name \"Lee487\"\n",
        "git config --global user.email \"2123410383@o365.tku.edu.tw\"\n",
        "\n",
        "# 5. 新增檔案到 Git stage\n",
        "echo \"將檔案新增至 Git stage\"\n",
        "git add \"$FILE_NAME\"\n",
        "\n",
        "# 6. 提交檔案到本地 Git 倉庫\n",
        "echo \"提交檔案到本地 Git 倉庫\"\n",
        "git commit -m \"新增檔案: $FILE_NAME\"\n",
        "\n",
        "# 7. 連結遠端 Git 倉庫\n",
        "echo \"將本地 Git 倉庫連結到遠端 Git 倉庫\"\n",
        "git remote add origin \"$GIT_REPO_URL\"\n",
        "\n",
        "# 8. 推送更改到遠端 Git 倉庫\n",
        "echo \"將更改推送到遠端 Git 倉庫\"\n",
        "git push https://github.com/Lee487/your-repo-name.git\n",
        "\n",
        "echo \"完成！檔案已經成功提交並推送到遠端 Git 倉庫。\"\n"
      ],
      "metadata": {
        "colab": {
          "base_uri": "https://localhost:8080/"
        },
        "id": "pdaFuj1pHKpG",
        "outputId": "361cc20c-3ed6-4300-8677-b5849c0139f4"
      },
      "execution_count": 21,
      "outputs": [
        {
          "output_type": "stream",
          "name": "stdout",
          "text": [
            "初始化 Git 倉庫\n",
            "Reinitialized existing Git repository in /content/.git/\n",
            "新增檔案: \n",
            "設定 Git 使用者名稱和電子郵件\n",
            "將檔案新增至 Git stage\n",
            "提交檔案到本地 Git 倉庫\n",
            "On branch master\n",
            "Untracked files:\n",
            "  (use \"git add <file>...\" to include in what will be committed)\n",
            "\t-/\n",
            "\t.config/\n",
            "\tmy-repo/\n",
            "\tmy-repo_test1/\n",
            "\tsample_data/\n",
            "\n",
            "nothing added to commit but untracked files present (use \"git add\" to track)\n",
            "將本地 Git 倉庫連結到遠端 Git 倉庫\n",
            "將更改推送到遠端 Git 倉庫\n",
            "完成！檔案已經成功提交並推送到遠端 Git 倉庫。\n"
          ]
        },
        {
          "output_type": "stream",
          "name": "stderr",
          "text": [
            "bash: line 3: ！PROJECT_NAME=my-repo: command not found\n",
            "bash: line 4: ！FILE_NAME=example_file.txt: command not found\n",
            "bash: line 5: ！GIT_REPO_URL=https://github.com/Lee487/your-repo-name.git: No such file or directory\n",
            "bash: line 8: ！echo: command not found\n",
            "bash: line 9: ！mkdir: command not found\n",
            "bash: line 10: ！cd: command not found\n",
            "bash: line 17: : No such file or directory\n",
            "cat: '': No such file or directory\n",
            "fatal: empty string is not a valid pathspec. please use . instead if you meant to match all paths\n",
            "error: remote origin already exists.\n",
            "fatal: could not read Username for 'https://github.com': No such device or address\n"
          ]
        }
      ]
    },
    {
      "cell_type": "markdown",
      "source": [
        "題目：以 Google Colab Linux 環境為例，演練如何上傳自己\n",
        "設計的專案。\n",
        "• 要求：\n",
        "1. 先在 GitHub 建立一個專案倉庫 (例如 my-repo_test1)，並取\n",
        "得 GitHub URL\n",
        "2. 在本地端建立一個同名的專案資料夾，將下列的檔案 my-\n",
        "repo_test1_demo.sh 上傳到 GitHub\n"
      ],
      "metadata": {
        "id": "phP4PgPjHYBV"
      }
    },
    {
      "cell_type": "code",
      "source": [
        "%%bash\n",
        "# 設定專案名稱和檔案名稱\n",
        "PROJECT_NAME=\"my-repo_test1\"\n",
        "FILE_NAME=\"my-repo_test1_demo.sh\"\n",
        "GIT_REPO_URL=\"https://github.com/Lee487/your-repo-name.git\"  # 記得替換成你的 Git 倉庫 URL\n",
        "\n",
        "# 1. 建立專案資料夾\n",
        "echo \"建立專案資料夾: $PROJECT_NAME\"\n",
        "mkdir \"$PROJECT_NAME\"\n",
        "cd \"$PROJECT_NAME\"\n",
        "\n",
        "# 2. 建立 Bash 腳本檔案 (這是範例腳本內容，可以根據需要修改)\n",
        "echo '#!/bin/bash' > \"$FILE_NAME\"\n",
        "echo 'echo \"Hello, GitHub!\"' >> \"$FILE_NAME\"\n",
        "\n",
        "# 查看檔案內容\n",
        "cat \"$FILE_NAME\"\n",
        "\n",
        "# 3. 初始化 Git 倉庫\n",
        "echo \"初始化 Git 倉庫\"\n",
        "git init\n",
        "\n",
        "# 4. 設定 Git 使用者名稱和電子郵件\n",
        "echo \"設定 Git 使用者名稱和電子郵件\"\n",
        "git config --global user.name \"Your Name\"\n",
        "git config --global user.email \"your-email@example.com\"\n",
        "\n",
        "# 5. 新增檔案到 Git stage\n",
        "echo \"將檔案新增至 Git stage\"\n",
        "git add \"$FILE_NAME\"\n",
        "\n",
        "# 6. 提交檔案到本地 Git 倉庫\n",
        "echo \"提交檔案到本地 Git 倉庫\"\n",
        "git commit -m \"新增檔案: $FILE_NAME\"\n",
        "\n",
        "# 7. 連結遠端 Git 倉庫\n",
        "echo \"將本地 Git 倉庫連結到遠端 Git 倉庫\"\n",
        "git remote add origin \"$GIT_REPO_URL\"\n",
        "\n",
        "# 8. 推送更改到遠端 Git 倉庫\n",
        "echo \"將更改推送到遠端 Git 倉庫\"\n",
        "git push -u origin master\n",
        "\n",
        "# 9. 創建 README.md 並提交\n",
        "echo \"# $PROJECT_NAME\" > README.md\n",
        "echo \"這是我的專案 $PROJECT_NAME 的描述。\" >> README.md\n",
        "\n",
        "# 10. 初始化 README.md 並提交到 Git\n",
        "git add README.md\n",
        "git commit -m \"新增 README.md\"\n",
        "git push https://github.com/Lee487/your-repo-name.git\n",
        "echo \"完成！檔案已經成功提交並推送到遠端 Git 倉庫。\"\n"
      ],
      "metadata": {
        "colab": {
          "base_uri": "https://localhost:8080/"
        },
        "id": "KgLIVfqpHZAR",
        "outputId": "039ed4d8-a731-4e43-b221-d40e209e824b"
      },
      "execution_count": 19,
      "outputs": [
        {
          "output_type": "stream",
          "name": "stdout",
          "text": [
            "建立專案資料夾: my-repo_test1\n",
            "#!/bin/bash\n",
            "echo \"Hello, GitHub!\"\n",
            "初始化 Git 倉庫\n",
            "Reinitialized existing Git repository in /content/my-repo_test1/.git/\n",
            "設定 Git 使用者名稱和電子郵件\n",
            "將檔案新增至 Git stage\n",
            "提交檔案到本地 Git 倉庫\n",
            "On branch master\n",
            "nothing to commit, working tree clean\n",
            "將本地 Git 倉庫連結到遠端 Git 倉庫\n",
            "將更改推送到遠端 Git 倉庫\n",
            "On branch master\n",
            "nothing to commit, working tree clean\n",
            "完成！檔案已經成功提交並推送到遠端 Git 倉庫。\n"
          ]
        },
        {
          "output_type": "stream",
          "name": "stderr",
          "text": [
            "mkdir: cannot create directory ‘my-repo_test1’: File exists\n",
            "error: remote origin already exists.\n",
            "fatal: could not read Username for 'https://github.com': No such device or address\n",
            "fatal: could not read Username for 'https://github.com': No such device or address\n"
          ]
        }
      ]
    },
    {
      "cell_type": "markdown",
      "source": [
        "• 題目：以 Google Colab Linux 環境為例，演練如何下載\n",
        "GitHub 指定倉庫至 Colab。\n",
        "• 要求：\n",
        "以 https://github.com/a29654068?tab=repositories 為例，下載\n",
        "demo.git 至本地端，使用 HTTPS <倉庫網址>\n"
      ],
      "metadata": {
        "id": "Tf2LnYaRIvvH"
      }
    },
    {
      "cell_type": "code",
      "source": [
        "!git clone https://github.com/Lee487/-.git"
      ],
      "metadata": {
        "colab": {
          "base_uri": "https://localhost:8080/"
        },
        "id": "uYMwjRfjJDJ2",
        "outputId": "ceeb22cb-3c02-40e8-c140-344f1d603215"
      },
      "execution_count": null,
      "outputs": [
        {
          "output_type": "stream",
          "name": "stdout",
          "text": [
            "Cloning into '-'...\n",
            "warning: You appear to have cloned an empty repository.\n"
          ]
        }
      ]
    },
    {
      "cell_type": "code",
      "source": [
        "# 使用 Git 下載指定的 GitHub 倉庫\n",
        "!git clonehttps://github.com/Lee487/-.git"
      ],
      "metadata": {
        "colab": {
          "base_uri": "https://localhost:8080/"
        },
        "id": "khMhAjPnJJXS",
        "outputId": "6ea1372a-db51-4776-c9ef-93183425c561"
      },
      "execution_count": null,
      "outputs": [
        {
          "output_type": "stream",
          "name": "stdout",
          "text": [
            "git: 'clonehttps://github.com/Lee487/-.git' is not a git command. See 'git --help'.\n"
          ]
        }
      ]
    },
    {
      "cell_type": "code",
      "source": [
        "# 查看當前目錄下的檔案和資料夾\n",
        "!ls\n"
      ],
      "metadata": {
        "id": "z6nxJoEwJPSr",
        "outputId": "ff769dd4-8d10-4da4-ebae-bd6a58cc15be",
        "colab": {
          "base_uri": "https://localhost:8080/"
        }
      },
      "execution_count": null,
      "outputs": [
        {
          "output_type": "stream",
          "name": "stdout",
          "text": [
            "-  my-repo  my-repo_test1  sample_data\n"
          ]
        }
      ]
    },
    {
      "cell_type": "code",
      "source": [
        "# 進入下載的 demo 資料夾\n",
        "%cd demo\n",
        "\n",
        "# 查看資料夾中的檔案\n",
        "!ls\n"
      ],
      "metadata": {
        "id": "czY33UQVJSqQ",
        "outputId": "97b02465-c4af-486f-f6f8-df8e66299e42",
        "colab": {
          "base_uri": "https://localhost:8080/"
        }
      },
      "execution_count": null,
      "outputs": [
        {
          "output_type": "stream",
          "name": "stdout",
          "text": [
            "[Errno 2] No such file or directory: 'demo'\n",
            "/content\n",
            "-  my-repo  my-repo_test1  sample_data\n"
          ]
        }
      ]
    },
    {
      "cell_type": "code",
      "source": [
        "!git add .\n"
      ],
      "metadata": {
        "colab": {
          "base_uri": "https://localhost:8080/"
        },
        "id": "dpAf6XoPNKWD",
        "outputId": "2548ec1b-faa2-481b-dbf2-a0066dcfe9eb"
      },
      "execution_count": 22,
      "outputs": [
        {
          "output_type": "stream",
          "name": "stdout",
          "text": [
            "error: '-/' does not have a commit checked out\n",
            "fatal: adding files failed\n"
          ]
        }
      ]
    },
    {
      "cell_type": "code",
      "source": [
        "!git push"
      ],
      "metadata": {
        "colab": {
          "base_uri": "https://localhost:8080/"
        },
        "id": "WdXcOcQkNNbb",
        "outputId": "1715be3a-4675-4f2d-9254-ecc7c290637a"
      },
      "execution_count": 23,
      "outputs": [
        {
          "output_type": "stream",
          "name": "stdout",
          "text": [
            "fatal: The current branch master has no upstream branch.\n",
            "To push the current branch and set the remote as upstream, use\n",
            "\n",
            "    git push --set-upstream origin master\n",
            "\n"
          ]
        }
      ]
    }
  ]
}